{
 "cells": [
  {
   "cell_type": "markdown",
   "metadata": {},
   "source": [
    "### Year Estimates from Topical Wars"
   ]
  },
  {
   "cell_type": "code",
   "execution_count": 1,
   "metadata": {},
   "outputs": [],
   "source": [
    "import pandas as pd\n",
    "import re\n",
    "import numpy as np"
   ]
  },
  {
   "cell_type": "markdown",
   "metadata": {},
   "source": [
    "#### Pull in some data just to test it out"
   ]
  },
  {
   "cell_type": "markdown",
   "metadata": {},
   "source": [
    "orig_data = pd.read_csv(\"presidential_speeches.csv\")\n",
    "orig_data.head()"
   ]
  },
  {
   "cell_type": "markdown",
   "metadata": {},
   "source": [
    "data = orig_data.drop(columns = ['Date', 'Party', 'Speech Title', 'Summary', 'URL'])"
   ]
  },
  {
   "cell_type": "markdown",
   "metadata": {},
   "source": [
    "data = data.dropna()"
   ]
  },
  {
   "cell_type": "markdown",
   "metadata": {},
   "source": [
    "#### List of Wars and Start Dates"
   ]
  },
  {
   "cell_type": "code",
   "execution_count": 5,
   "metadata": {},
   "outputs": [],
   "source": [
    "#read in Wikipedia data\n",
    "url = 'https://en.wikipedia.org/wiki/List_of_the_lengths_of_United_States_participation_in_wars'\n",
    "wars = pd.read_html(url, header = 0)"
   ]
  },
  {
   "cell_type": "code",
   "execution_count": 6,
   "metadata": {},
   "outputs": [],
   "source": [
    "wars = wars[1]"
   ]
  },
  {
   "cell_type": "code",
   "execution_count": 7,
   "metadata": {},
   "outputs": [],
   "source": [
    "wars = wars.drop(columns = ['Duration (graphical representation)', 'Unnamed: 0'])"
   ]
  },
  {
   "cell_type": "code",
   "execution_count": 8,
   "metadata": {},
   "outputs": [
    {
     "data": {
      "text/html": [
       "<div>\n",
       "<style scoped>\n",
       "    .dataframe tbody tr th:only-of-type {\n",
       "        vertical-align: middle;\n",
       "    }\n",
       "\n",
       "    .dataframe tbody tr th {\n",
       "        vertical-align: top;\n",
       "    }\n",
       "\n",
       "    .dataframe thead th {\n",
       "        text-align: right;\n",
       "    }\n",
       "</style>\n",
       "<table border=\"1\" class=\"dataframe\">\n",
       "  <thead>\n",
       "    <tr style=\"text-align: right;\">\n",
       "      <th></th>\n",
       "      <th>War</th>\n",
       "      <th>Dates</th>\n",
       "      <th>Duration</th>\n",
       "    </tr>\n",
       "  </thead>\n",
       "  <tbody>\n",
       "    <tr>\n",
       "      <td>0</td>\n",
       "      <td>Afghan War</td>\n",
       "      <td>2001 – 2014, 2015 – present[1][2]</td>\n",
       "      <td>19.2 years (19 years, 1 month)</td>\n",
       "    </tr>\n",
       "    <tr>\n",
       "      <td>2</td>\n",
       "      <td>Vietnam War</td>\n",
       "      <td>1955/11 – 1973/04[3][4][5][6][7]</td>\n",
       "      <td>17.4 years (17 years, 4 months)</td>\n",
       "    </tr>\n",
       "    <tr>\n",
       "      <td>4</td>\n",
       "      <td>Moro Rebellion</td>\n",
       "      <td>1899 – 1913</td>\n",
       "      <td>14 years</td>\n",
       "    </tr>\n",
       "    <tr>\n",
       "      <td>6</td>\n",
       "      <td>War in North-West Pakistan</td>\n",
       "      <td>2004 – 2017</td>\n",
       "      <td>13 years</td>\n",
       "    </tr>\n",
       "    <tr>\n",
       "      <td>8</td>\n",
       "      <td>Northwest Indian War</td>\n",
       "      <td>1785 – 1795</td>\n",
       "      <td>10 years</td>\n",
       "    </tr>\n",
       "  </tbody>\n",
       "</table>\n",
       "</div>"
      ],
      "text/plain": [
       "                          War                              Dates  \\\n",
       "0                  Afghan War  2001 – 2014, 2015 – present[1][2]   \n",
       "2                 Vietnam War   1955/11 – 1973/04[3][4][5][6][7]   \n",
       "4              Moro Rebellion                        1899 – 1913   \n",
       "6  War in North-West Pakistan                        2004 – 2017   \n",
       "8        Northwest Indian War                        1785 – 1795   \n",
       "\n",
       "                          Duration  \n",
       "0   19.2 years (19 years, 1 month)  \n",
       "2  17.4 years (17 years, 4 months)  \n",
       "4                         14 years  \n",
       "6                         13 years  \n",
       "8                         10 years  "
      ]
     },
     "execution_count": 8,
     "metadata": {},
     "output_type": "execute_result"
    }
   ],
   "source": [
    "wars = wars.dropna()\n",
    "wars.head()"
   ]
  },
  {
   "cell_type": "markdown",
   "metadata": {},
   "source": [
    "###### Add a lowercase column containing the names of wars, without the word \"war\" at the end."
   ]
  },
  {
   "cell_type": "code",
   "execution_count": 9,
   "metadata": {},
   "outputs": [],
   "source": [
    "# To lowercase and remove the word \"war.\" (While this may occationally lead to odd behavior, I think its best. \n",
    "# This is because\n",
    "# people are more inclined to say, for instance \"Vietnam\" than \"Vietnam War.\")\n",
    "def remove_war(name):\n",
    "    if name[-4:len(name)] == ' War':\n",
    "        return name[0:-4].lower()\n",
    "    else:\n",
    "        return name.lower()"
   ]
  },
  {
   "cell_type": "code",
   "execution_count": 10,
   "metadata": {},
   "outputs": [
    {
     "data": {
      "text/plain": [
       "'afghan'"
      ]
     },
     "execution_count": 10,
     "metadata": {},
     "output_type": "execute_result"
    }
   ],
   "source": [
    "remove_war('Afghan War')"
   ]
  },
  {
   "cell_type": "code",
   "execution_count": 11,
   "metadata": {},
   "outputs": [
    {
     "data": {
      "text/html": [
       "<div>\n",
       "<style scoped>\n",
       "    .dataframe tbody tr th:only-of-type {\n",
       "        vertical-align: middle;\n",
       "    }\n",
       "\n",
       "    .dataframe tbody tr th {\n",
       "        vertical-align: top;\n",
       "    }\n",
       "\n",
       "    .dataframe thead th {\n",
       "        text-align: right;\n",
       "    }\n",
       "</style>\n",
       "<table border=\"1\" class=\"dataframe\">\n",
       "  <thead>\n",
       "    <tr style=\"text-align: right;\">\n",
       "      <th></th>\n",
       "      <th>War</th>\n",
       "      <th>Dates</th>\n",
       "      <th>Duration</th>\n",
       "      <th>shortened_name</th>\n",
       "    </tr>\n",
       "  </thead>\n",
       "  <tbody>\n",
       "    <tr>\n",
       "      <td>0</td>\n",
       "      <td>Afghan War</td>\n",
       "      <td>2001 – 2014, 2015 – present[1][2]</td>\n",
       "      <td>19.2 years (19 years, 1 month)</td>\n",
       "      <td>afghan</td>\n",
       "    </tr>\n",
       "    <tr>\n",
       "      <td>2</td>\n",
       "      <td>Vietnam War</td>\n",
       "      <td>1955/11 – 1973/04[3][4][5][6][7]</td>\n",
       "      <td>17.4 years (17 years, 4 months)</td>\n",
       "      <td>vietnam</td>\n",
       "    </tr>\n",
       "    <tr>\n",
       "      <td>4</td>\n",
       "      <td>Moro Rebellion</td>\n",
       "      <td>1899 – 1913</td>\n",
       "      <td>14 years</td>\n",
       "      <td>moro rebellion</td>\n",
       "    </tr>\n",
       "    <tr>\n",
       "      <td>6</td>\n",
       "      <td>War in North-West Pakistan</td>\n",
       "      <td>2004 – 2017</td>\n",
       "      <td>13 years</td>\n",
       "      <td>war in north-west pakistan</td>\n",
       "    </tr>\n",
       "    <tr>\n",
       "      <td>8</td>\n",
       "      <td>Northwest Indian War</td>\n",
       "      <td>1785 – 1795</td>\n",
       "      <td>10 years</td>\n",
       "      <td>northwest indian</td>\n",
       "    </tr>\n",
       "  </tbody>\n",
       "</table>\n",
       "</div>"
      ],
      "text/plain": [
       "                          War                              Dates  \\\n",
       "0                  Afghan War  2001 – 2014, 2015 – present[1][2]   \n",
       "2                 Vietnam War   1955/11 – 1973/04[3][4][5][6][7]   \n",
       "4              Moro Rebellion                        1899 – 1913   \n",
       "6  War in North-West Pakistan                        2004 – 2017   \n",
       "8        Northwest Indian War                        1785 – 1795   \n",
       "\n",
       "                          Duration              shortened_name  \n",
       "0   19.2 years (19 years, 1 month)                      afghan  \n",
       "2  17.4 years (17 years, 4 months)                     vietnam  \n",
       "4                         14 years              moro rebellion  \n",
       "6                         13 years  war in north-west pakistan  \n",
       "8                         10 years            northwest indian  "
      ]
     },
     "execution_count": 11,
     "metadata": {},
     "output_type": "execute_result"
    }
   ],
   "source": [
    "wars['shortened_name'] = wars['War'].apply(remove_war)\n",
    "wars.head()"
   ]
  },
  {
   "cell_type": "markdown",
   "metadata": {},
   "source": [
    "###### Add a column of the start date for each war."
   ]
  },
  {
   "cell_type": "code",
   "execution_count": 12,
   "metadata": {},
   "outputs": [],
   "source": [
    "# Extract year and turn it into an int.\n",
    "def extract_year(date):\n",
    "    year = date[0:4]\n",
    "    return int(year)"
   ]
  },
  {
   "cell_type": "code",
   "execution_count": 13,
   "metadata": {},
   "outputs": [
    {
     "data": {
      "text/html": [
       "<div>\n",
       "<style scoped>\n",
       "    .dataframe tbody tr th:only-of-type {\n",
       "        vertical-align: middle;\n",
       "    }\n",
       "\n",
       "    .dataframe tbody tr th {\n",
       "        vertical-align: top;\n",
       "    }\n",
       "\n",
       "    .dataframe thead th {\n",
       "        text-align: right;\n",
       "    }\n",
       "</style>\n",
       "<table border=\"1\" class=\"dataframe\">\n",
       "  <thead>\n",
       "    <tr style=\"text-align: right;\">\n",
       "      <th></th>\n",
       "      <th>War</th>\n",
       "      <th>Dates</th>\n",
       "      <th>Duration</th>\n",
       "      <th>shortened_name</th>\n",
       "      <th>year</th>\n",
       "    </tr>\n",
       "  </thead>\n",
       "  <tbody>\n",
       "    <tr>\n",
       "      <td>0</td>\n",
       "      <td>Afghan War</td>\n",
       "      <td>2001 – 2014, 2015 – present[1][2]</td>\n",
       "      <td>19.2 years (19 years, 1 month)</td>\n",
       "      <td>afghan</td>\n",
       "      <td>2001</td>\n",
       "    </tr>\n",
       "    <tr>\n",
       "      <td>2</td>\n",
       "      <td>Vietnam War</td>\n",
       "      <td>1955/11 – 1973/04[3][4][5][6][7]</td>\n",
       "      <td>17.4 years (17 years, 4 months)</td>\n",
       "      <td>vietnam</td>\n",
       "      <td>1955</td>\n",
       "    </tr>\n",
       "    <tr>\n",
       "      <td>4</td>\n",
       "      <td>Moro Rebellion</td>\n",
       "      <td>1899 – 1913</td>\n",
       "      <td>14 years</td>\n",
       "      <td>moro rebellion</td>\n",
       "      <td>1899</td>\n",
       "    </tr>\n",
       "    <tr>\n",
       "      <td>6</td>\n",
       "      <td>War in North-West Pakistan</td>\n",
       "      <td>2004 – 2017</td>\n",
       "      <td>13 years</td>\n",
       "      <td>war in north-west pakistan</td>\n",
       "      <td>2004</td>\n",
       "    </tr>\n",
       "    <tr>\n",
       "      <td>8</td>\n",
       "      <td>Northwest Indian War</td>\n",
       "      <td>1785 – 1795</td>\n",
       "      <td>10 years</td>\n",
       "      <td>northwest indian</td>\n",
       "      <td>1785</td>\n",
       "    </tr>\n",
       "  </tbody>\n",
       "</table>\n",
       "</div>"
      ],
      "text/plain": [
       "                          War                              Dates  \\\n",
       "0                  Afghan War  2001 – 2014, 2015 – present[1][2]   \n",
       "2                 Vietnam War   1955/11 – 1973/04[3][4][5][6][7]   \n",
       "4              Moro Rebellion                        1899 – 1913   \n",
       "6  War in North-West Pakistan                        2004 – 2017   \n",
       "8        Northwest Indian War                        1785 – 1795   \n",
       "\n",
       "                          Duration              shortened_name  year  \n",
       "0   19.2 years (19 years, 1 month)                      afghan  2001  \n",
       "2  17.4 years (17 years, 4 months)                     vietnam  1955  \n",
       "4                         14 years              moro rebellion  1899  \n",
       "6                         13 years  war in north-west pakistan  2004  \n",
       "8                         10 years            northwest indian  1785  "
      ]
     },
     "execution_count": 13,
     "metadata": {},
     "output_type": "execute_result"
    }
   ],
   "source": [
    "wars['year'] = wars['Dates'].apply(extract_year)\n",
    "wars.head()"
   ]
  },
  {
   "cell_type": "code",
   "execution_count": 14,
   "metadata": {},
   "outputs": [
    {
     "data": {
      "text/plain": [
       "War               object\n",
       "Dates             object\n",
       "Duration          object\n",
       "shortened_name    object\n",
       "year               int64\n",
       "dtype: object"
      ]
     },
     "execution_count": 14,
     "metadata": {},
     "output_type": "execute_result"
    }
   ],
   "source": [
    "wars.dtypes"
   ]
  },
  {
   "cell_type": "markdown",
   "metadata": {},
   "source": [
    "###### Create a regular expression to match war names."
   ]
  },
  {
   "cell_type": "code",
   "execution_count": 15,
   "metadata": {},
   "outputs": [],
   "source": [
    "class rgx():\n",
    "    def __init__(self):\n",
    "        self.rgx = ''\n",
    "    \n",
    "    def make_regex(self, name):\n",
    "        self.rgx += name + '|'"
   ]
  },
  {
   "cell_type": "code",
   "execution_count": 16,
   "metadata": {},
   "outputs": [],
   "source": [
    "rgx = rgx()\n",
    "wars['shortened_name'].apply(rgx.make_regex)\n",
    "rgx.rgx = rgx.rgx[0:-1]"
   ]
  },
  {
   "cell_type": "code",
   "execution_count": 17,
   "metadata": {},
   "outputs": [
    {
     "data": {
      "text/plain": [
       "\"afghan|vietnam|moro rebellion|war in north-west pakistan|northwest indian|iraq|american revolutionary|second seminole|war on isil|first barbary|american civil|world war ii|korean|war of 1812|red cloud's|mexican–american|world war i|russian civil|great sioux war of 1876|libyan civil war (2011)|persian gulf|whiskey rebellion|spanish–american|kosovo|invasion of panama|cuban missile crisis|invasion of grenada|bay of pigs invasion\""
      ]
     },
     "execution_count": 17,
     "metadata": {},
     "output_type": "execute_result"
    }
   ],
   "source": [
    "# The \"|\" symbol means \"or.\" So, the regular expression is looking for something that says \"afghan\" or \"vietnam\" \n",
    "# or \"moro rebellion\" or ...\n",
    "rgx.rgx"
   ]
  },
  {
   "cell_type": "markdown",
   "metadata": {},
   "source": [
    "###### After all that preparation, the function can now be written."
   ]
  },
  {
   "cell_type": "code",
   "execution_count": 39,
   "metadata": {},
   "outputs": [],
   "source": [
    "def year_from_wars(speeches):\n",
    "    estimates = np.zeros(len(speeches)) # for holding average year\n",
    "    \n",
    "    # for every speech\n",
    "    for idx in range(len(speeches)):\n",
    "        start_pos = 0\n",
    "        num_wars = 0\n",
    "        \n",
    "        # loop through transcript until every war mention has been found\n",
    "        while re.search(rgx.rgx, speeches.iloc[idx,:]['Transcript'][start_pos:], re.IGNORECASE) is not None:\n",
    "            \n",
    "            found = re.search(rgx.rgx, speeches.iloc[idx,:]['Transcript'][start_pos:], re.IGNORECASE)\n",
    "            \n",
    "            # add the date of the beginning of the war\n",
    "            estimates[idx] += wars[wars['shortened_name'] == speeches.iloc[idx,:]['Transcript'] \\\n",
    "                                   [found.start()+start_pos:found.end()+start_pos].lower()].iloc[0,4]\n",
    "            \n",
    "            # the start position for looking at the remaining transcript\n",
    "            start_pos += found.end()\n",
    "            \n",
    "            # tick number of wars found in this speech\n",
    "            num_wars += 1\n",
    "        \n",
    "        # if any wars were found, divide by total number of name drops\n",
    "        if estimates[idx]: estimates[idx] = estimates[idx]/num_wars\n",
    "            \n",
    "    # scale\n",
    "    estimates = estimates/2019\n",
    "    \n",
    "    # return as series WITH NANS\n",
    "    return pd.Series(estimates, name = 'year_from_wars').replace(to_replace = 0.0, value = np.nan) \n",
    "        "
   ]
  },
  {
   "cell_type": "markdown",
   "metadata": {},
   "source": [
    "###### Test it out. Looks like it works pretty well, although there are a lot of NaNs at the beginning."
   ]
  },
  {
   "cell_type": "markdown",
   "metadata": {},
   "source": [
    "estimates = year_from_wars(data)"
   ]
  },
  {
   "cell_type": "markdown",
   "metadata": {},
   "source": [
    "import matplotlib.pyplot as plt\n",
    "plt.scatter(estimates, range(len(estimates)))"
   ]
  }
 ],
 "metadata": {
  "kernelspec": {
   "display_name": "Python 3",
   "language": "python",
   "name": "python3"
  },
  "language_info": {
   "codemirror_mode": {
    "name": "ipython",
    "version": 3
   },
   "file_extension": ".py",
   "mimetype": "text/x-python",
   "name": "python",
   "nbconvert_exporter": "python",
   "pygments_lexer": "ipython3",
   "version": "3.7.4"
  }
 },
 "nbformat": 4,
 "nbformat_minor": 2
}
