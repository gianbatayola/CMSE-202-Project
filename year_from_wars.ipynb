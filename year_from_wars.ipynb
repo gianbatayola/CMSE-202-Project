{
 "cells": [
  {
   "cell_type": "markdown",
   "metadata": {},
   "source": [
    "### Year Estimates from Wars Discussed in the Speech\n",
    "One expectation we had for presidential speeches is that a lot of them would discuss or mention wars the United States was fighting at that time. For this reason, we thought that analyzing which wars were discussed in each speech could potentially serve as a useful yardstick for which president was talking. Certainly, some presidents would discuss wars from the past or wars that were also in progress during other president's tenures, but on average we expected that presidents would mostly discuss wars relatively close to the time of their presidency. This notebook creates a function for use later. This function extracts all the wars mentioned in each speech, matches them to a year, averages the years for each speech, and scales the result from 0 to 1."
   ]
  },
  {
   "cell_type": "code",
   "execution_count": 1,
   "metadata": {},
   "outputs": [],
   "source": [
    "import pandas as pd\n",
    "import re # this is for string manipulation and regular expression matching\n",
    "import numpy as np"
   ]
  },
  {
   "cell_type": "markdown",
   "metadata": {},
   "source": [
    "#### Pull In Data for Testing\n",
    "This function will be tested with all of the presidential speeches in our dataset. Therefore, the data is pulled in. Irrelevant columns and rows that are missing a transcript are removed. (Note that this code is commented out so that it is not ran when this notebook is imported in the main notebook. However, for the reader's convenience, images of the results are still displayed in the results section.)"
   ]
  },
  {
   "cell_type": "code",
   "execution_count": 2,
   "metadata": {},
   "outputs": [
    {
     "data": {
      "text/plain": [
       "'orig_data = pd.read_csv(\"presidential_speeches.csv\")'"
      ]
     },
     "execution_count": 2,
     "metadata": {},
     "output_type": "execute_result"
    }
   ],
   "source": [
    "\"\"\"orig_data = pd.read_csv(\"presidential_speeches.csv\")\"\"\""
   ]
  },
  {
   "cell_type": "code",
   "execution_count": 3,
   "metadata": {},
   "outputs": [
    {
     "data": {
      "text/plain": [
       "\"data = orig_data.drop(columns = ['Date', 'Party', 'Speech Title', 'Summary', 'URL'])\""
      ]
     },
     "execution_count": 3,
     "metadata": {},
     "output_type": "execute_result"
    }
   ],
   "source": [
    "\"\"\"data = orig_data.drop(columns = ['Date', 'Party', 'Speech Title', 'Summary', 'URL'])\"\"\""
   ]
  },
  {
   "cell_type": "code",
   "execution_count": 4,
   "metadata": {},
   "outputs": [
    {
     "data": {
      "text/plain": [
       "'data = data.dropna()'"
      ]
     },
     "execution_count": 4,
     "metadata": {},
     "output_type": "execute_result"
    }
   ],
   "source": [
    "\"\"\"data = data.dropna()\"\"\""
   ]
  },
  {
   "cell_type": "markdown",
   "metadata": {},
   "source": [
    "#### List of Wars and Start Dates\n",
    "This function will require the names of all wars fought by the United States, as well as the date when those wars occurred. Here, this data is extracted from a Wikipedia page."
   ]
  },
  {
   "cell_type": "code",
   "execution_count": 5,
   "metadata": {},
   "outputs": [],
   "source": [
    "#read in Wikipedia data\n",
    "url = 'https://en.wikipedia.org/wiki/List_of_the_lengths_of_United_States_participation_in_wars'\n",
    "wars = pd.read_html(url, header = 0)"
   ]
  },
  {
   "cell_type": "code",
   "execution_count": 6,
   "metadata": {},
   "outputs": [],
   "source": [
    "wars = wars[1]"
   ]
  },
  {
   "cell_type": "code",
   "execution_count": 7,
   "metadata": {},
   "outputs": [],
   "source": [
    "wars = wars.drop(columns = ['Duration (graphical representation)', 'Unnamed: 0'])"
   ]
  },
  {
   "cell_type": "code",
   "execution_count": 8,
   "metadata": {},
   "outputs": [
    {
     "data": {
      "text/html": [
       "<div>\n",
       "<style scoped>\n",
       "    .dataframe tbody tr th:only-of-type {\n",
       "        vertical-align: middle;\n",
       "    }\n",
       "\n",
       "    .dataframe tbody tr th {\n",
       "        vertical-align: top;\n",
       "    }\n",
       "\n",
       "    .dataframe thead th {\n",
       "        text-align: right;\n",
       "    }\n",
       "</style>\n",
       "<table border=\"1\" class=\"dataframe\">\n",
       "  <thead>\n",
       "    <tr style=\"text-align: right;\">\n",
       "      <th></th>\n",
       "      <th>War</th>\n",
       "      <th>Dates</th>\n",
       "      <th>Duration</th>\n",
       "    </tr>\n",
       "  </thead>\n",
       "  <tbody>\n",
       "    <tr>\n",
       "      <td>0</td>\n",
       "      <td>Afghan War</td>\n",
       "      <td>2001 – 2014, 2015 – present[1][2]</td>\n",
       "      <td>19.2 years (19 years, 2 months)</td>\n",
       "    </tr>\n",
       "    <tr>\n",
       "      <td>2</td>\n",
       "      <td>Vietnam War</td>\n",
       "      <td>1955/11 – 1973/04[3][4][5][6][7]</td>\n",
       "      <td>17.4 years (17 years, 4 months)</td>\n",
       "    </tr>\n",
       "    <tr>\n",
       "      <td>4</td>\n",
       "      <td>Moro Rebellion</td>\n",
       "      <td>1899 – 1913</td>\n",
       "      <td>14 years</td>\n",
       "    </tr>\n",
       "    <tr>\n",
       "      <td>6</td>\n",
       "      <td>War in North-West Pakistan</td>\n",
       "      <td>2004 – 2017</td>\n",
       "      <td>13 years</td>\n",
       "    </tr>\n",
       "    <tr>\n",
       "      <td>8</td>\n",
       "      <td>Northwest Indian War</td>\n",
       "      <td>1785 – 1795</td>\n",
       "      <td>10 years</td>\n",
       "    </tr>\n",
       "  </tbody>\n",
       "</table>\n",
       "</div>"
      ],
      "text/plain": [
       "                          War                              Dates  \\\n",
       "0                  Afghan War  2001 – 2014, 2015 – present[1][2]   \n",
       "2                 Vietnam War   1955/11 – 1973/04[3][4][5][6][7]   \n",
       "4              Moro Rebellion                        1899 – 1913   \n",
       "6  War in North-West Pakistan                        2004 – 2017   \n",
       "8        Northwest Indian War                        1785 – 1795   \n",
       "\n",
       "                          Duration  \n",
       "0  19.2 years (19 years, 2 months)  \n",
       "2  17.4 years (17 years, 4 months)  \n",
       "4                         14 years  \n",
       "6                         13 years  \n",
       "8                         10 years  "
      ]
     },
     "execution_count": 8,
     "metadata": {},
     "output_type": "execute_result"
    }
   ],
   "source": [
    "wars = wars.dropna()\n",
    "wars.head()"
   ]
  },
  {
   "cell_type": "markdown",
   "metadata": {},
   "source": [
    "###### Add a Lowercase Column Containing the Names of Wars, Without the Word \"War\" at the End.\n",
    "People are unlikely to always refer to wars by their full name. For instance, when talking about the Vietnam War, people are more inclined to say something like \"in Vietnam\" instead of \"in the Vietnam War.\" For this reason, the folowing cells extract the shortened name from the list of wars. This introduced the possibility that the function could find times when presidents mention a region or country without talking about the war associated with it. For instance, the president might be talking about Vietnam's economy instead of referencing the Vietnam War, but the function below won't make that distinction. This problem is somewhat mitigated by the fact that public scrutiny of a region or country tends to roughly correspond with any military engagement in the region. (Still, this is a caveat to keep in mind.)"
   ]
  },
  {
   "cell_type": "code",
   "execution_count": 9,
   "metadata": {},
   "outputs": [],
   "source": [
    "# lowercase and remove \"war\" from phrase\n",
    "def remove_war(name):\n",
    "    if name[-4:len(name)] == ' War':\n",
    "        return name[0:-4].lower()\n",
    "    else:\n",
    "        return name.lower()"
   ]
  },
  {
   "cell_type": "code",
   "execution_count": 10,
   "metadata": {},
   "outputs": [
    {
     "data": {
      "text/plain": [
       "'afghan'"
      ]
     },
     "execution_count": 10,
     "metadata": {},
     "output_type": "execute_result"
    }
   ],
   "source": [
    "# example\n",
    "remove_war('Afghan War')"
   ]
  },
  {
   "cell_type": "code",
   "execution_count": 11,
   "metadata": {},
   "outputs": [
    {
     "data": {
      "text/html": [
       "<div>\n",
       "<style scoped>\n",
       "    .dataframe tbody tr th:only-of-type {\n",
       "        vertical-align: middle;\n",
       "    }\n",
       "\n",
       "    .dataframe tbody tr th {\n",
       "        vertical-align: top;\n",
       "    }\n",
       "\n",
       "    .dataframe thead th {\n",
       "        text-align: right;\n",
       "    }\n",
       "</style>\n",
       "<table border=\"1\" class=\"dataframe\">\n",
       "  <thead>\n",
       "    <tr style=\"text-align: right;\">\n",
       "      <th></th>\n",
       "      <th>War</th>\n",
       "      <th>Dates</th>\n",
       "      <th>Duration</th>\n",
       "      <th>shortened_name</th>\n",
       "    </tr>\n",
       "  </thead>\n",
       "  <tbody>\n",
       "    <tr>\n",
       "      <td>0</td>\n",
       "      <td>Afghan War</td>\n",
       "      <td>2001 – 2014, 2015 – present[1][2]</td>\n",
       "      <td>19.2 years (19 years, 2 months)</td>\n",
       "      <td>afghan</td>\n",
       "    </tr>\n",
       "    <tr>\n",
       "      <td>2</td>\n",
       "      <td>Vietnam War</td>\n",
       "      <td>1955/11 – 1973/04[3][4][5][6][7]</td>\n",
       "      <td>17.4 years (17 years, 4 months)</td>\n",
       "      <td>vietnam</td>\n",
       "    </tr>\n",
       "    <tr>\n",
       "      <td>4</td>\n",
       "      <td>Moro Rebellion</td>\n",
       "      <td>1899 – 1913</td>\n",
       "      <td>14 years</td>\n",
       "      <td>moro rebellion</td>\n",
       "    </tr>\n",
       "    <tr>\n",
       "      <td>6</td>\n",
       "      <td>War in North-West Pakistan</td>\n",
       "      <td>2004 – 2017</td>\n",
       "      <td>13 years</td>\n",
       "      <td>war in north-west pakistan</td>\n",
       "    </tr>\n",
       "    <tr>\n",
       "      <td>8</td>\n",
       "      <td>Northwest Indian War</td>\n",
       "      <td>1785 – 1795</td>\n",
       "      <td>10 years</td>\n",
       "      <td>northwest indian</td>\n",
       "    </tr>\n",
       "  </tbody>\n",
       "</table>\n",
       "</div>"
      ],
      "text/plain": [
       "                          War                              Dates  \\\n",
       "0                  Afghan War  2001 – 2014, 2015 – present[1][2]   \n",
       "2                 Vietnam War   1955/11 – 1973/04[3][4][5][6][7]   \n",
       "4              Moro Rebellion                        1899 – 1913   \n",
       "6  War in North-West Pakistan                        2004 – 2017   \n",
       "8        Northwest Indian War                        1785 – 1795   \n",
       "\n",
       "                          Duration              shortened_name  \n",
       "0  19.2 years (19 years, 2 months)                      afghan  \n",
       "2  17.4 years (17 years, 4 months)                     vietnam  \n",
       "4                         14 years              moro rebellion  \n",
       "6                         13 years  war in north-west pakistan  \n",
       "8                         10 years            northwest indian  "
      ]
     },
     "execution_count": 11,
     "metadata": {},
     "output_type": "execute_result"
    }
   ],
   "source": [
    "# create a new column containing modified names\n",
    "wars['shortened_name'] = wars['War'].apply(remove_war)\n",
    "wars.head()"
   ]
  },
  {
   "cell_type": "markdown",
   "metadata": {},
   "source": [
    "###### Add a Column of the Start Date for Each War\n",
    "The code below creates a column that contains the years each war started. Perhaps the average of the start and end year would have been slightly better, but that is not the approach taken below. This is because the input data is formatted in a way that would have made this approach very inconvenient."
   ]
  },
  {
   "cell_type": "code",
   "execution_count": 12,
   "metadata": {},
   "outputs": [],
   "source": [
    "# Extract year and turn it into an int.\n",
    "def extract_year(date):\n",
    "    year = date[0:4]\n",
    "    return int(year)"
   ]
  },
  {
   "cell_type": "code",
   "execution_count": 13,
   "metadata": {},
   "outputs": [
    {
     "data": {
      "text/html": [
       "<div>\n",
       "<style scoped>\n",
       "    .dataframe tbody tr th:only-of-type {\n",
       "        vertical-align: middle;\n",
       "    }\n",
       "\n",
       "    .dataframe tbody tr th {\n",
       "        vertical-align: top;\n",
       "    }\n",
       "\n",
       "    .dataframe thead th {\n",
       "        text-align: right;\n",
       "    }\n",
       "</style>\n",
       "<table border=\"1\" class=\"dataframe\">\n",
       "  <thead>\n",
       "    <tr style=\"text-align: right;\">\n",
       "      <th></th>\n",
       "      <th>War</th>\n",
       "      <th>Dates</th>\n",
       "      <th>Duration</th>\n",
       "      <th>shortened_name</th>\n",
       "      <th>year</th>\n",
       "    </tr>\n",
       "  </thead>\n",
       "  <tbody>\n",
       "    <tr>\n",
       "      <td>0</td>\n",
       "      <td>Afghan War</td>\n",
       "      <td>2001 – 2014, 2015 – present[1][2]</td>\n",
       "      <td>19.2 years (19 years, 2 months)</td>\n",
       "      <td>afghan</td>\n",
       "      <td>2001</td>\n",
       "    </tr>\n",
       "    <tr>\n",
       "      <td>2</td>\n",
       "      <td>Vietnam War</td>\n",
       "      <td>1955/11 – 1973/04[3][4][5][6][7]</td>\n",
       "      <td>17.4 years (17 years, 4 months)</td>\n",
       "      <td>vietnam</td>\n",
       "      <td>1955</td>\n",
       "    </tr>\n",
       "    <tr>\n",
       "      <td>4</td>\n",
       "      <td>Moro Rebellion</td>\n",
       "      <td>1899 – 1913</td>\n",
       "      <td>14 years</td>\n",
       "      <td>moro rebellion</td>\n",
       "      <td>1899</td>\n",
       "    </tr>\n",
       "    <tr>\n",
       "      <td>6</td>\n",
       "      <td>War in North-West Pakistan</td>\n",
       "      <td>2004 – 2017</td>\n",
       "      <td>13 years</td>\n",
       "      <td>war in north-west pakistan</td>\n",
       "      <td>2004</td>\n",
       "    </tr>\n",
       "    <tr>\n",
       "      <td>8</td>\n",
       "      <td>Northwest Indian War</td>\n",
       "      <td>1785 – 1795</td>\n",
       "      <td>10 years</td>\n",
       "      <td>northwest indian</td>\n",
       "      <td>1785</td>\n",
       "    </tr>\n",
       "  </tbody>\n",
       "</table>\n",
       "</div>"
      ],
      "text/plain": [
       "                          War                              Dates  \\\n",
       "0                  Afghan War  2001 – 2014, 2015 – present[1][2]   \n",
       "2                 Vietnam War   1955/11 – 1973/04[3][4][5][6][7]   \n",
       "4              Moro Rebellion                        1899 – 1913   \n",
       "6  War in North-West Pakistan                        2004 – 2017   \n",
       "8        Northwest Indian War                        1785 – 1795   \n",
       "\n",
       "                          Duration              shortened_name  year  \n",
       "0  19.2 years (19 years, 2 months)                      afghan  2001  \n",
       "2  17.4 years (17 years, 4 months)                     vietnam  1955  \n",
       "4                         14 years              moro rebellion  1899  \n",
       "6                         13 years  war in north-west pakistan  2004  \n",
       "8                         10 years            northwest indian  1785  "
      ]
     },
     "execution_count": 13,
     "metadata": {},
     "output_type": "execute_result"
    }
   ],
   "source": [
    "wars['year'] = wars['Dates'].apply(extract_year)\n",
    "wars.head()"
   ]
  },
  {
   "cell_type": "code",
   "execution_count": 14,
   "metadata": {},
   "outputs": [
    {
     "data": {
      "text/plain": [
       "War               object\n",
       "Dates             object\n",
       "Duration          object\n",
       "shortened_name    object\n",
       "year               int64\n",
       "dtype: object"
      ]
     },
     "execution_count": 14,
     "metadata": {},
     "output_type": "execute_result"
    }
   ],
   "source": [
    "wars.dtypes"
   ]
  },
  {
   "cell_type": "markdown",
   "metadata": {},
   "source": [
    "###### Create a Regular Expression to Match War Names\n",
    "Next, a method is needed to search the text for when the presidents mention a war. This is done using regular expressions. The code below creates a regular expression that matches any of the war names. In regular expressions, the \"|\" symbol means \"or.\" So, the regular expression presented below is looking for something that says \"afghan\" or \"vietnam\" or \"moro rebellion\" and so on."
   ]
  },
  {
   "cell_type": "code",
   "execution_count": 15,
   "metadata": {},
   "outputs": [],
   "source": [
    "# this class is used to store the changing verion of the regex string\n",
    "class rgx():\n",
    "    def __init__(self):\n",
    "        self.rgx = ''\n",
    "    \n",
    "    def make_regex(self, name):\n",
    "        self.rgx += name + '|'"
   ]
  },
  {
   "cell_type": "code",
   "execution_count": 16,
   "metadata": {},
   "outputs": [],
   "source": [
    "# apply the regex creation function, and remove the stray \"|\" at the very end of the regex string\n",
    "rgx = rgx()\n",
    "wars['shortened_name'].apply(rgx.make_regex)\n",
    "rgx.rgx = rgx.rgx[0:-1]"
   ]
  },
  {
   "cell_type": "code",
   "execution_count": 17,
   "metadata": {},
   "outputs": [
    {
     "data": {
      "text/plain": [
       "\"afghan|vietnam|moro rebellion|war in north-west pakistan|northwest indian|iraq|american revolutionary|second seminole|war on isil|first barbary|american civil|world war ii|korean|war of 1812|red cloud's|mexican–american|world war i|russian civil|great sioux war of 1876|libyan civil war (2011)|persian gulf|whiskey rebellion|spanish–american|kosovo|invasion of panama|cuban missile crisis|invasion of grenada|bay of pigs invasion\""
      ]
     },
     "execution_count": 17,
     "metadata": {},
     "output_type": "execute_result"
    }
   ],
   "source": [
    "# The \"|\" symbol means \"or.\" So, the regular expression is looking for something that says \"afghan\" or \"vietnam\" \n",
    "# or \"moro rebellion\" or ...\n",
    "rgx.rgx"
   ]
  },
  {
   "cell_type": "markdown",
   "metadata": {},
   "source": [
    "###### Write the Function\n",
    "Now that the necessary parts have been created, the function itself can be created. The function recieves a dataframe with a column containing transcripts. It finds every mention of a war for every speech, matches the mentions to a date, and returns the average date, scaled."
   ]
  },
  {
   "cell_type": "code",
   "execution_count": 18,
   "metadata": {},
   "outputs": [],
   "source": [
    "def year_from_wars(speeches):\n",
    "    estimates = np.zeros(len(speeches)) # for holding average year\n",
    "    \n",
    "    # for every speech\n",
    "    for idx in range(len(speeches)):\n",
    "        start_pos = 0\n",
    "        num_wars = 0\n",
    "        \n",
    "        # loop through transcript until every war mention has been found\n",
    "        while re.search(rgx.rgx, speeches.iloc[idx,:]['Transcript'][start_pos:], re.IGNORECASE) is not None:\n",
    "            \n",
    "            found = re.search(rgx.rgx, speeches.iloc[idx,:]['Transcript'][start_pos:], re.IGNORECASE)\n",
    "            \n",
    "            # add the date of the beginning of the war\n",
    "            estimates[idx] += wars[wars['shortened_name'] == speeches.iloc[idx,:]['Transcript'] \\\n",
    "                                   [found.start()+start_pos:found.end()+start_pos].lower()].iloc[0,4]\n",
    "            \n",
    "            # the start position for looking at the remaining transcript\n",
    "            start_pos += found.end()\n",
    "            \n",
    "            # tick number of wars found in this speech\n",
    "            num_wars += 1\n",
    "        \n",
    "        # if any wars were found, divide by total number of name drops\n",
    "        if estimates[idx]: estimates[idx] = estimates[idx]/num_wars\n",
    "            \n",
    "    # scale\n",
    "    estimates = estimates/2019\n",
    "    \n",
    "    # return as series WITH NANS\n",
    "    return pd.Series(estimates, name = 'year_from_wars').replace(to_replace = 0.0, value = np.nan) \n",
    "        "
   ]
  },
  {
   "cell_type": "markdown",
   "metadata": {},
   "source": [
    "###### Test It Out\n",
    "The function seems to work pretty well. It shows an upward trend in the year estimates, which is expected. It does spit out a lot of NaNs when no wars are mentioned, however. This points in part to linguistic problems; what wars are referred to changes through time."
   ]
  },
  {
   "cell_type": "code",
   "execution_count": 19,
   "metadata": {},
   "outputs": [
    {
     "data": {
      "text/plain": [
       "'estimates = year_from_wars(data)'"
      ]
     },
     "execution_count": 19,
     "metadata": {},
     "output_type": "execute_result"
    }
   ],
   "source": [
    "\"\"\"estimates = year_from_wars(data)\"\"\""
   ]
  },
  {
   "cell_type": "code",
   "execution_count": 20,
   "metadata": {},
   "outputs": [
    {
     "data": {
      "text/plain": [
       "'import matplotlib.pyplot as plt\\n%matplotlib inline\\nplt.scatter(estimates, range(len(estimates)))\\nplt.title(\"Date Estimates Through Time\")\\nplt.xlabel(\"Scaled Estimate\")\\nplt.ylabel(\"Entry in the Chronological Dataset\")'"
      ]
     },
     "execution_count": 20,
     "metadata": {},
     "output_type": "execute_result"
    }
   ],
   "source": [
    "\"\"\"import matplotlib.pyplot as plt\n",
    "%matplotlib inline\n",
    "plt.scatter(estimates, range(len(estimates)))\n",
    "plt.title(\"Date Estimates Through Time\")\n",
    "plt.xlabel(\"Scaled Estimate\")\n",
    "plt.ylabel(\"Entry in the Chronological Dataset\")\"\"\""
   ]
  },
  {
   "attachments": {
    "scaled_estimate.png": {
     "image/png": "[encoded data removed]"
    }
   },
   "cell_type": "markdown",
   "metadata": {},
   "source": [
    "![scaled_estimate.png](attachment:scaled_estimate.png)"
   ]
  }
 ],
 "metadata": {
  "kernelspec": {
   "display_name": "Python 3",
   "language": "python",
   "name": "python3"
  },
  "language_info": {
   "codemirror_mode": {
    "name": "ipython",
    "version": 3
   },
   "file_extension": ".py",
   "mimetype": "text/x-python",
   "name": "python",
   "nbconvert_exporter": "python",
   "pygments_lexer": "ipython3",
   "version": "3.7.4"
  }
 },
 "nbformat": 4,
 "nbformat_minor": 2
}
