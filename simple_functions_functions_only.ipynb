{
 "cells": [
  {
   "cell_type": "code",
   "execution_count": 3,
   "metadata": {},
   "outputs": [
    {
     "name": "stderr",
     "output_type": "stream",
     "text": [
      "[nltk_data] Downloading package stopwords to\n",
      "[nltk_data]     C:\\Users\\jrnoo\\AppData\\Roaming\\nltk_data...\n",
      "[nltk_data]   Package stopwords is already up-to-date!\n"
     ]
    }
   ],
   "source": [
    "import numpy as np\n",
    "import pandas as pd\n",
    "import re\n",
    "import nltk \n",
    "from sklearn.datasets import load_files\n",
    "nltk.download('stopwords')\n",
    "import pickle\n",
    "from nltk.corpus import stopwords\n",
    "from nltk.stem import WordNetLemmatizer\n",
    "import textstat as ts\n",
    "from sklearn.feature_extraction.text import CountVectorizer"
   ]
  },
  {
   "cell_type": "code",
   "execution_count": 4,
   "metadata": {},
   "outputs": [],
   "source": [
    "def mreplace(text,list1,list2,max=None): #replaces strings in text more efficiently than built-in methods\n",
    "    for i in range(len(list1)):\n",
    "        if max==None:\n",
    "            text=text.replace(list1[i],list2[i])\n",
    "        else:\n",
    "            text=text.replace(list1[i],list2[i],max)\n",
    "    return text\n",
    "\n",
    "def remover(text,removees): #removes a list of strings from text\n",
    "    nothing = [ \"\" for i in removees ]\n",
    "    return mreplace(text,removees,nothing)\n",
    "\n",
    "def plaintxt(text,nospace=True): #removes all spaces, line breaks, and punctuation from text\n",
    "    removees = [\"\\n\",\".\",\",\",\"?\",\"(\",\")\",\"!\",\"/\",\":\",\";\",\"-\",\"'\",'\"',\"[\",\"]\"]\n",
    "    if nospace: # If nospace is false, spaces will not be removed\n",
    "        removees.append(\" \")\n",
    "    return remover(text,removees)\n",
    "\n",
    "def sentlength(text): #average sentence length\n",
    "    return ts.lexicon_count(text)/ts.sentence_count(text)\n",
    "\n",
    "def wordlength(text): #average letters per word\n",
    "    return len(plaintxt(text))/ts.lexicon_count(text)\n",
    "\n",
    "def wordsyll(text): #average syllables per word\n",
    "    return ts.syllable_count(text)/ts.lexicon_count(text)"
   ]
  },
  {
   "cell_type": "code",
   "execution_count": 5,
   "metadata": {},
   "outputs": [],
   "source": [
    "allSW = set(stopwords.words('english')) #set of all stop words\n",
    "\n",
    "def stopwordprop(text): #Proportion of stop words in text\n",
    "    nopunc = plaintxt(text,nospace=False) #get rid of punctuations and line breaks\n",
    "    words = nopunc.lower().split() #remove capitalization and split into individual words\n",
    "    count = 0\n",
    "    for word in words: #count the number of stop words in the text\n",
    "        if word in allSW:\n",
    "            count += 1 \n",
    "    return count/len(words)"
   ]
  },
  {
   "cell_type": "code",
   "execution_count": 9,
   "metadata": {},
   "outputs": [],
   "source": [
    "def phrases(text,n):\n",
    "    nopunc = plaintxt(text,nospace=False) #probably want to add something here to deal with sentences ending, but\n",
    "                                          # I'll do that later\n",
    "    words = nopunc.lower().split()\n",
    "    phraselist = [\" \".join(words[i:i+n]) for i in range(len(words)-n+1)] #I might need to change \" \" to \"\" when I \n",
    "                                            # use this with the word vectorizer\n",
    "    return phraselist"
   ]
  },
  {
   "cell_type": "code",
   "execution_count": 55,
   "metadata": {},
   "outputs": [],
   "source": [
    "def phrase_count(text,n=1,minnum=0):\n",
    "    ngrams = phrases(text,n)\n",
    "    unique_phrases = np.unique(np.array(ngrams))\n",
    "    counter = {}\n",
    "    for gram in unique_phrases:\n",
    "        num = ngrams.count(gram)\n",
    "        if num>=minnum: counter[gram] = num\n",
    "    return counter"
   ]
  },
  {
   "cell_type": "code",
   "execution_count": 90,
   "metadata": {},
   "outputs": [],
   "source": [
    "def dataframeizer(functions): # turns a list of functions that take in text into a series of functions that take in data frames\n",
    "    funcs = pd.Series(functions) #starts by turning the list into a series\n",
    "    newfunc = lambda f: lambda df: df.apply(f) #second-order function that takes in a function f and returns a function that applies f to a data frame or series\n",
    "    newfs = funcs.apply(newfunc) #turns every function in funcs from a text function to a data frame function\n",
    "    return newfs"
   ]
  },
  {
   "cell_type": "code",
   "execution_count": 58,
   "metadata": {},
   "outputs": [],
   "source": [
    "RL = lambda text: ts.text_standard(text,float_output=True) # Reading level of the text"
   ]
  },
  {
   "cell_type": "code",
   "execution_count": 103,
   "metadata": {},
   "outputs": [],
   "source": [
    "sentlen, wordlen, avesylls, SWprop, readlvl, sentcount, wordcount = dataframeizer([sentlength,wordlength,wordsyll,stopwordprop,ts.flesch_reading_ease,ts.sentence_count,ts.lexicon_count])"
   ]
  },
  {
   "cell_type": "code",
   "execution_count": 108,
   "metadata": {},
   "outputs": [],
   "source": [
    "def Ngrams(df,n,mini=0):\n",
    "    ngcount = lambda text: phrase_count(text,n=n,minnum=mini)\n",
    "    return df.apply(ngcount)"
   ]
  }
 ],
 "metadata": {
  "kernelspec": {
   "display_name": "Python 3",
   "language": "python",
   "name": "python3"
  },
  "language_info": {
   "codemirror_mode": {
    "name": "ipython",
    "version": 3
   },
   "file_extension": ".py",
   "mimetype": "text/x-python",
   "name": "python",
   "nbconvert_exporter": "python",
   "pygments_lexer": "ipython3",
   "version": "3.8.3"
  }
 },
 "nbformat": 4,
 "nbformat_minor": 4
}
