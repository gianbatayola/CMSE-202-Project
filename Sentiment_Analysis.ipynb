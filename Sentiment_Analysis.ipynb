{
 "cells": [
  {
   "cell_type": "code",
   "execution_count": 4,
   "metadata": {},
   "outputs": [],
   "source": [
    "from nltk.stem.wordnet import WordNetLemmatizer\n",
    "from nltk.corpus import twitter_samples, stopwords, inaugural\n",
    "from nltk.tag import pos_tag\n",
    "from nltk.tokenize import word_tokenize, sent_tokenize\n",
    "from nltk import FreqDist, classify, NaiveBayesClassifier\n",
    "\n",
    "import re, string, random"
   ]
  },
  {
   "cell_type": "code",
   "execution_count": 5,
   "metadata": {},
   "outputs": [],
   "source": [
    "def remove_noise(tweet_tokens, stop_words = ()):\n",
    "\n",
    "    cleaned_tokens = []\n",
    "\n",
    "    for token, tag in pos_tag(tweet_tokens):\n",
    "        token = re.sub('http[s]?://(?:[a-zA-Z]|[0-9]|[$-_@.&+#]|[!*\\(\\),]|'\\\n",
    "                       '(?:%[0-9a-fA-F][0-9a-fA-F]))+','', token)\n",
    "        token = re.sub(\"(@[A-Za-z0-9_]+)\",\"\", token)\n",
    "\n",
    "        if tag.startswith(\"NN\"):\n",
    "            pos = 'n'\n",
    "        elif tag.startswith('VB'):\n",
    "            pos = 'v'\n",
    "        else:\n",
    "            pos = 'a'\n",
    "\n",
    "        lemmatizer = WordNetLemmatizer()\n",
    "        token = lemmatizer.lemmatize(token, pos)\n",
    "\n",
    "        if len(token) > 0 and token not in string.punctuation and token.lower() not in stop_words:\n",
    "            cleaned_tokens.append(token.lower())\n",
    "    return cleaned_tokens"
   ]
  },
  {
   "cell_type": "code",
   "execution_count": 6,
   "metadata": {},
   "outputs": [],
   "source": [
    "def get_all_words(cleaned_tokens_list):\n",
    "    for tokens in cleaned_tokens_list:\n",
    "        for token in tokens:\n",
    "            yield token"
   ]
  },
  {
   "cell_type": "code",
   "execution_count": 7,
   "metadata": {},
   "outputs": [],
   "source": [
    "def get_tweets_for_model(cleaned_tokens_list):\n",
    "    for tweet_tokens in cleaned_tokens_list:\n",
    "        yield dict([token, True] for token in tweet_tokens)"
   ]
  },
  {
   "cell_type": "code",
   "execution_count": 8,
   "metadata": {},
   "outputs": [],
   "source": [
    "def build_sentiment_model(): #might not need as function, likely calling this code only once\n",
    "    positive_tweets = twitter_samples.strings('positive_tweets.json')\n",
    "    negative_tweets = twitter_samples.strings('negative_tweets.json')\n",
    "    text = twitter_samples.strings('tweets.20150430-223406.json')\n",
    "    tweet_tokens = twitter_samples.tokenized('positive_tweets.json')[0]\n",
    "\n",
    "    stop_words = stopwords.words('english')\n",
    "\n",
    "    positive_tweet_tokens = twitter_samples.tokenized('positive_tweets.json')\n",
    "    negative_tweet_tokens = twitter_samples.tokenized('negative_tweets.json')\n",
    "\n",
    "    positive_cleaned_tokens_list = []\n",
    "    negative_cleaned_tokens_list = []\n",
    "\n",
    "    for tokens in positive_tweet_tokens:\n",
    "        positive_cleaned_tokens_list.append(remove_noise(tokens, stop_words))\n",
    "\n",
    "    for tokens in negative_tweet_tokens:\n",
    "        negative_cleaned_tokens_list.append(remove_noise(tokens, stop_words))\n",
    "\n",
    "    all_pos_words = get_all_words(positive_cleaned_tokens_list)\n",
    "\n",
    "    freq_dist_pos = FreqDist(all_pos_words)\n",
    "\n",
    "    positive_tokens_for_model = get_tweets_for_model(positive_cleaned_tokens_list)\n",
    "    negative_tokens_for_model = get_tweets_for_model(negative_cleaned_tokens_list)\n",
    "\n",
    "    positive_dataset = [(tweet_dict, \"Positive\") for tweet_dict in positive_tokens_for_model]\n",
    "\n",
    "    negative_dataset = [(tweet_dict, \"Negative\") for tweet_dict in negative_tokens_for_model]\n",
    "    \n",
    "    dataset = positive_dataset + negative_dataset\n",
    "    \n",
    "    random.shuffle(dataset)\n",
    "    \n",
    "    train_data = dataset[:7000]\n",
    "    test_data = dataset[7000:]\n",
    "    classifier = NaiveBayesClassifier.train(train_data)\n",
    "    \n",
    "    return classifier"
   ]
  },
  {
   "cell_type": "code",
   "execution_count": 9,
   "metadata": {},
   "outputs": [],
   "source": [
    "def positivity_score(filename, classifier):\n",
    "    positive_sentences = 0\n",
    "    negative_sentences = 0\n",
    "    for sent in sent_tokenize(filename):\n",
    "        custom_tokens = remove_noise(word_tokenize(sent))\n",
    "        if(classifier.classify(dict([token, True] for token in custom_tokens)) == 'Positive'):\n",
    "            positive_sentences += 1\n",
    "        else:\n",
    "            negative_sentences += 1\n",
    "    return positive_sentences/(positive_sentences+negative_sentences)  "
   ]
  },
  {
   "cell_type": "code",
   "execution_count": 10,
   "metadata": {},
   "outputs": [
    {
     "name": "stdout",
     "output_type": "stream",
     "text": [
      "1789-Washington.txt 1.0\n",
      "1793-Washington.txt 0.75\n",
      "1797-Adams.txt 0.7837837837837838\n",
      "1801-Jefferson.txt 0.6341463414634146\n",
      "1805-Jefferson.txt 0.7333333333333333\n",
      "1809-Madison.txt 0.8095238095238095\n",
      "1813-Madison.txt 0.696969696969697\n",
      "1817-Monroe.txt 0.6721311475409836\n",
      "1821-Monroe.txt 0.6744186046511628\n",
      "1825-Adams.txt 0.6216216216216216\n",
      "1829-Jackson.txt 0.68\n",
      "1833-Jackson.txt 0.7241379310344828\n",
      "1837-VanBuren.txt 0.7263157894736842\n",
      "1841-Harrison.txt 0.5904761904761905\n",
      "1845-Polk.txt 0.6143790849673203\n",
      "1849-Taylor.txt 0.7272727272727273\n",
      "1853-Pierce.txt 0.5961538461538461\n",
      "1857-Buchanan.txt 0.7191011235955056\n",
      "1861-Lincoln.txt 0.6148148148148148\n",
      "1865-Lincoln.txt 0.5769230769230769\n",
      "1869-Grant.txt 0.725\n",
      "1873-Grant.txt 0.6744186046511628\n",
      "1877-Hayes.txt 0.6949152542372882\n",
      "1881-Garfield.txt 0.5855855855855856\n",
      "1885-Cleveland.txt 0.6590909090909091\n",
      "1889-Harrison.txt 0.7070063694267515\n",
      "1893-Cleveland.txt 0.6724137931034483\n",
      "1897-McKinley.txt 0.6846153846153846\n",
      "1901-McKinley.txt 0.6\n",
      "1905-Roosevelt.txt 0.5757575757575758\n",
      "1909-Taft.txt 0.6540880503144654\n",
      "1913-Wilson.txt 0.6617647058823529\n",
      "1917-Wilson.txt 0.5932203389830508\n",
      "1921-Harding.txt 0.6216216216216216\n",
      "1925-Coolidge.txt 0.6173469387755102\n",
      "1929-Hoover.txt 0.5759493670886076\n",
      "1933-Roosevelt.txt 0.5058823529411764\n",
      "1937-Roosevelt.txt 0.7291666666666666\n",
      "1941-Roosevelt.txt 0.6029411764705882\n",
      "1945-Roosevelt.txt 0.5\n",
      "1949-Truman.txt 0.6120689655172413\n",
      "1953-Eisenhower.txt 0.7310924369747899\n",
      "1957-Eisenhower.txt 0.5760869565217391\n",
      "1961-Kennedy.txt 0.7884615384615384\n",
      "1965-Johnson.txt 0.6063829787234043\n",
      "1969-Nixon.txt 0.6407766990291263\n",
      "1973-Nixon.txt 0.5441176470588235\n",
      "1977-Carter.txt 0.75\n",
      "1981-Reagan.txt 0.5905511811023622\n",
      "1985-Reagan.txt 0.6129032258064516\n",
      "1989-Bush.txt 0.6573426573426573\n",
      "1993-Clinton.txt 0.654320987654321\n",
      "1997-Clinton.txt 0.6396396396396397\n",
      "2001-Bush.txt 0.5979381443298969\n",
      "2005-Bush.txt 0.6\n",
      "2009-Obama.txt 0.5454545454545454\n",
      "2013-Obama.txt 0.6555555555555556\n",
      "2017-Trump.txt 0.7\n"
     ]
    }
   ],
   "source": [
    "# classifier = build_sentiment_model()\n",
    "# for i in inaugural.fileids():\n",
    "#     print(i, positivity_score(inaugural.raw(i),classifier))"
   ]
  },
  {
   "cell_type": "code",
   "execution_count": null,
   "metadata": {},
   "outputs": [],
   "source": []
  }
 ],
 "metadata": {
  "kernelspec": {
   "display_name": "Python 3",
   "language": "python",
   "name": "python3"
  },
  "language_info": {
   "codemirror_mode": {
    "name": "ipython",
    "version": 3
   },
   "file_extension": ".py",
   "mimetype": "text/x-python",
   "name": "python",
   "nbconvert_exporter": "python",
   "pygments_lexer": "ipython3",
   "version": "3.8.3"
  }
 },
 "nbformat": 4,
 "nbformat_minor": 4
}
