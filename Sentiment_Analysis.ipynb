{
 "cells": [
  {
   "cell_type": "code",
   "execution_count": 1,
   "metadata": {},
   "outputs": [],
   "source": [
    "from nltk.stem.wordnet import WordNetLemmatizer\n",
    "from nltk.corpus import twitter_samples, stopwords, inaugural\n",
    "from nltk.tag import pos_tag\n",
    "from nltk.tokenize import word_tokenize, sent_tokenize\n",
    "from nltk import FreqDist, classify, NaiveBayesClassifier\n",
    "\n",
    "import re, string, random"
   ]
  },
  {
   "cell_type": "code",
   "execution_count": 2,
   "metadata": {},
   "outputs": [],
   "source": [
    "def remove_noise(tweet_tokens, stop_words = ()):\n",
    "\n",
    "    cleaned_tokens = []\n",
    "\n",
    "    for token, tag in pos_tag(tweet_tokens):\n",
    "        token = re.sub('http[s]?://(?:[a-zA-Z]|[0-9]|[$-_@.&+#]|[!*\\(\\),]|'\\\n",
    "                       '(?:%[0-9a-fA-F][0-9a-fA-F]))+','', token)\n",
    "        token = re.sub(\"(@[A-Za-z0-9_]+)\",\"\", token)\n",
    "\n",
    "        if tag.startswith(\"NN\"):\n",
    "            pos = 'n'\n",
    "        elif tag.startswith('VB'):\n",
    "            pos = 'v'\n",
    "        else:\n",
    "            pos = 'a'\n",
    "\n",
    "        lemmatizer = WordNetLemmatizer()\n",
    "        token = lemmatizer.lemmatize(token, pos)\n",
    "\n",
    "        if len(token) > 0 and token not in string.punctuation and token.lower() not in stop_words:\n",
    "            cleaned_tokens.append(token.lower())\n",
    "    return cleaned_tokens"
   ]
  },
  {
   "cell_type": "code",
   "execution_count": 3,
   "metadata": {},
   "outputs": [],
   "source": [
    "def get_all_words(cleaned_tokens_list):\n",
    "    for tokens in cleaned_tokens_list:\n",
    "        for token in tokens:\n",
    "            yield token"
   ]
  },
  {
   "cell_type": "code",
   "execution_count": 4,
   "metadata": {},
   "outputs": [],
   "source": [
    "def get_tweets_for_model(cleaned_tokens_list):\n",
    "    for tweet_tokens in cleaned_tokens_list:\n",
    "        yield dict([token, True] for token in tweet_tokens)"
   ]
  },
  {
   "cell_type": "code",
   "execution_count": 5,
   "metadata": {},
   "outputs": [],
   "source": [
    "def build_sentiment_model(): #might not need as function, likely calling this code only once\n",
    "    positive_tweets = twitter_samples.strings('positive_tweets.json')\n",
    "    negative_tweets = twitter_samples.strings('negative_tweets.json')\n",
    "    text = twitter_samples.strings('tweets.20150430-223406.json')\n",
    "    tweet_tokens = twitter_samples.tokenized('positive_tweets.json')[0]\n",
    "\n",
    "    stop_words = stopwords.words('english')\n",
    "\n",
    "    positive_tweet_tokens = twitter_samples.tokenized('positive_tweets.json')\n",
    "    negative_tweet_tokens = twitter_samples.tokenized('negative_tweets.json')\n",
    "\n",
    "    positive_cleaned_tokens_list = []\n",
    "    negative_cleaned_tokens_list = []\n",
    "\n",
    "    for tokens in positive_tweet_tokens:\n",
    "        positive_cleaned_tokens_list.append(remove_noise(tokens, stop_words))\n",
    "\n",
    "    for tokens in negative_tweet_tokens:\n",
    "        negative_cleaned_tokens_list.append(remove_noise(tokens, stop_words))\n",
    "\n",
    "    all_pos_words = get_all_words(positive_cleaned_tokens_list)\n",
    "\n",
    "    freq_dist_pos = FreqDist(all_pos_words)\n",
    "\n",
    "    positive_tokens_for_model = get_tweets_for_model(positive_cleaned_tokens_list)\n",
    "    negative_tokens_for_model = get_tweets_for_model(negative_cleaned_tokens_list)\n",
    "\n",
    "    positive_dataset = [(tweet_dict, \"Positive\") for tweet_dict in positive_tokens_for_model]\n",
    "\n",
    "    negative_dataset = [(tweet_dict, \"Negative\") for tweet_dict in negative_tokens_for_model]\n",
    "    \n",
    "    dataset = positive_dataset + negative_dataset\n",
    "    \n",
    "    random.shuffle(dataset)\n",
    "    \n",
    "    train_data = dataset[:7000]\n",
    "    test_data = dataset[7000:]\n",
    "    classifier = NaiveBayesClassifier.train(train_data)\n",
    "    \n",
    "    return classifier"
   ]
  },
  {
   "cell_type": "code",
   "execution_count": 6,
   "metadata": {},
   "outputs": [],
   "source": [
    "def positivity_score(filename, classifier):\n",
    "    positive_sentences = 0\n",
    "    negative_sentences = 0\n",
    "    for sent in sent_tokenize(filename):\n",
    "        custom_tokens = remove_noise(word_tokenize(sent))\n",
    "        if(classifier.classify(dict([token, True] for token in custom_tokens)) == 'Positive'):\n",
    "            positive_sentences += 1\n",
    "        else:\n",
    "            negative_sentences += 1\n",
    "    return positive_sentences/(positive_sentences+negative_sentences)  "
   ]
  },
  {
   "cell_type": "code",
   "execution_count": 16,
   "metadata": {},
   "outputs": [
    {
     "name": "stdout",
     "output_type": "stream",
     "text": [
      "1789-Washington.txt 0.8260869565217391\n",
      "1793-Washington.txt 1.0\n",
      "1797-Adams.txt 0.8918918918918919\n",
      "1801-Jefferson.txt 0.6585365853658537\n",
      "1805-Jefferson.txt 0.7555555555555555\n",
      "1809-Madison.txt 0.8571428571428571\n",
      "1813-Madison.txt 0.5757575757575758\n",
      "1817-Monroe.txt 0.6229508196721312\n",
      "1821-Monroe.txt 0.689922480620155\n",
      "1825-Adams.txt 0.6216216216216216\n",
      "1829-Jackson.txt 0.8\n",
      "1833-Jackson.txt 0.6896551724137931\n",
      "1837-VanBuren.txt 0.7789473684210526\n",
      "1841-Harrison.txt 0.638095238095238\n",
      "1845-Polk.txt 0.6274509803921569\n",
      "1849-Taylor.txt 0.7727272727272727\n",
      "1853-Pierce.txt 0.6730769230769231\n",
      "1857-Buchanan.txt 0.7303370786516854\n",
      "1861-Lincoln.txt 0.6370370370370371\n",
      "1865-Lincoln.txt 0.6153846153846154\n",
      "1869-Grant.txt 0.85\n",
      "1873-Grant.txt 0.627906976744186\n",
      "1877-Hayes.txt 0.7796610169491526\n",
      "1881-Garfield.txt 0.6576576576576577\n",
      "1885-Cleveland.txt 0.7272727272727273\n",
      "1889-Harrison.txt 0.7643312101910829\n",
      "1893-Cleveland.txt 0.7586206896551724\n",
      "1897-McKinley.txt 0.7307692307692307\n",
      "1901-McKinley.txt 0.58\n",
      "1905-Roosevelt.txt 0.5757575757575758\n",
      "1909-Taft.txt 0.6540880503144654\n",
      "1913-Wilson.txt 0.7058823529411765\n",
      "1917-Wilson.txt 0.6271186440677966\n",
      "1921-Harding.txt 0.6216216216216216\n",
      "1925-Coolidge.txt 0.6836734693877551\n",
      "1929-Hoover.txt 0.569620253164557\n",
      "1933-Roosevelt.txt 0.5411764705882353\n",
      "1937-Roosevelt.txt 0.5625\n",
      "1941-Roosevelt.txt 0.6323529411764706\n",
      "1945-Roosevelt.txt 0.6538461538461539\n",
      "1949-Truman.txt 0.6982758620689655\n",
      "1953-Eisenhower.txt 0.7058823529411765\n",
      "1957-Eisenhower.txt 0.6413043478260869\n",
      "1961-Kennedy.txt 0.7115384615384616\n",
      "1965-Johnson.txt 0.5638297872340425\n",
      "1969-Nixon.txt 0.5825242718446602\n",
      "1973-Nixon.txt 0.5441176470588235\n",
      "1977-Carter.txt 0.5961538461538461\n",
      "1981-Reagan.txt 0.6062992125984252\n",
      "1985-Reagan.txt 0.6370967741935484\n",
      "1989-Bush.txt 0.5804195804195804\n",
      "1993-Clinton.txt 0.5802469135802469\n",
      "1997-Clinton.txt 0.5945945945945946\n",
      "2001-Bush.txt 0.5670103092783505\n",
      "2005-Bush.txt 0.6105263157894737\n",
      "2009-Obama.txt 0.509090909090909\n",
      "2013-Obama.txt 0.6111111111111112\n",
      "2017-Trump.txt 0.5444444444444444\n"
     ]
    }
   ],
   "source": [
    "classifier = build_sentiment_model()\n",
    "for i in inaugural.fileids():\n",
    "    print(i, positivity_score(inaugural.raw(i),classifier))"
   ]
  },
  {
   "cell_type": "code",
   "execution_count": null,
   "metadata": {},
   "outputs": [],
   "source": []
  }
 ],
 "metadata": {
  "kernelspec": {
   "display_name": "Python 3",
   "language": "python",
   "name": "python3"
  },
  "language_info": {
   "codemirror_mode": {
    "name": "ipython",
    "version": 3
   },
   "file_extension": ".py",
   "mimetype": "text/x-python",
   "name": "python",
   "nbconvert_exporter": "python",
   "pygments_lexer": "ipython3",
   "version": "3.8.3"
  }
 },
 "nbformat": 4,
 "nbformat_minor": 4
}
