{
 "cells": [
  {
   "cell_type": "code",
   "execution_count": 3,
   "metadata": {},
   "outputs": [],
   "source": [
    "import pandas as pd\n",
    "import matplotlib.pyplot as plt\n",
    "import numpy as np\n",
    "import seaborn as sns"
   ]
  },
  {
   "cell_type": "code",
   "execution_count": 4,
   "metadata": {},
   "outputs": [],
   "source": [
    "def confusion_image(trained_estimator, \n",
    "                    test_data, \n",
    "                    test_labels,\n",
    "                    preslist):\n",
    "    #Get both the counts as well as the confidence in estimation\n",
    "    confidence = trained_estimator.predict_proba(test_data)\n",
    "    predicted_labels = trained_estimator.predict(test_data)\n",
    "    #Create two labels for confidence and predicted label\n",
    "    d = {'Confidence': np.amax(confidence,1), 'Predicted Label': predicted_labels, 'True Label':test_labels}\n",
    "    #Convert to data frame\n",
    "    df = pd.DataFrame(data=d)\n",
    "    #Set the dimensions for an array.\n",
    "    dimensions = len(set(test_labels)),len(set(test_labels))\n",
    "    #Make two empty arrays, one for counts and one for confidence\n",
    "    a = np.zeros(dimensions)\n",
    "    b = np.zeros(dimensions)\n",
    "    #Algorithmically repace the values for counts and confidence\n",
    "    for i in range(len(set(test_labels))):\n",
    "        for j in range(len(set(test_labels))):\n",
    "            a[i][j] = np.mean(df[(df['Predicted Label'] == i) & (df['True Label'] == j)])[0]\n",
    "            b[i][j] = len(df[(df['Predicted Label'] == i) & (df['True Label'] == j)])\n",
    "    #Plot results\n",
    "    plt.figure(figsize=(8, 8))\n",
    "    image = sns.heatmap(a.T,cmap = 'viridis', annot = b.T, fmt='1', cbar_kws = {'label': 'Confidence'})\n",
    "    image.set_xticklabels(preslist)\n",
    "    image.set_yticklabels(preslist)\n",
    "    image.set(ylabel = 'True Label', xlabel = 'Predicted Label') \n",
    "    sns.set(font_scale = 1.3)\n",
    "    return image\n",
    "    "
   ]
  }
 ],
 "metadata": {
  "kernelspec": {
   "display_name": "Python 3",
   "language": "python",
   "name": "python3"
  },
  "language_info": {
   "codemirror_mode": {
    "name": "ipython",
    "version": 3
   },
   "file_extension": ".py",
   "mimetype": "text/x-python",
   "name": "python",
   "nbconvert_exporter": "python",
   "pygments_lexer": "ipython3",
   "version": "3.8.5"
  }
 },
 "nbformat": 4,
 "nbformat_minor": 4
}
