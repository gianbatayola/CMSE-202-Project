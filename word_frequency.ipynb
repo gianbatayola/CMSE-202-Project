{
 "cells": [
  {
   "cell_type": "code",
   "execution_count": 1,
   "metadata": {},
   "outputs": [],
   "source": [
    "import re\n",
    "from nltk.corpus import stopwords as stopwords\n",
    "import pandas as pd\n",
    "from nltk.stem import WordNetLemmatizer"
   ]
  },
  {
   "cell_type": "code",
   "execution_count": 2,
   "metadata": {},
   "outputs": [],
   "source": [
    "#This function returns the percentage of a speech that is included in the n most common words.\n",
    "def word_frequency(data, n, clean_data = True, remove_stopwords = False):\n",
    "\n",
    "    transcripts = data['Transcript']\n",
    "    \n",
    "    precent_frequency = []\n",
    "    \n",
    "    for transcript in transcripts:\n",
    "        \n",
    "        if clean_data:\n",
    "            # Data cleaning\n",
    "            transcript = transcript.lower()\n",
    "    \n",
    "            # Remove all none alphanumeric characters\n",
    "            transcript = re.sub(r'[^a-zA-Z0-9\\s]', '', transcript)\n",
    "        if remove_stopwords:\n",
    "            \n",
    "            # Delete stopwords (commonwords) try both with and without\n",
    "            stopwords_list = stopwords.words('english')\n",
    "            transcript = transcript.split()\n",
    "\n",
    "            resultwords  = [word for word in transcript if word.lower() not in stopwords_list]\n",
    "            transcript = ' '.join(resultwords)\n",
    "            \n",
    "        # This line is redundent if remove_stopwords = True, but can't guarantee that.\n",
    "        transcript = transcript.split()\n",
    "        \n",
    "        # Lemmatize words to remove tense inconsistencies\n",
    "        Lemmatizer = WordNetLemmatizer()\n",
    "\n",
    "        transcript = [Lemmatizer.lemmatize(word) for word in transcript]\n",
    "        \n",
    "        unique_words = list(set(transcript))\n",
    "\n",
    "        counts_dict = {word: transcript.count(word) for word in unique_words}\n",
    "        \n",
    "        # Sort counts dictionary by most commonly used words and take top n as most frequent words\n",
    "        #https://stackoverflow.com/questions/613183/how-do-i-sort-a-dictionary-by-value\n",
    "        counts_dict = {k: v for k, v in sorted(counts_dict.items(), key=lambda item: item[1])}\n",
    "        \n",
    "        most_common_vals = [v for k,v in counts_dict.items()]\n",
    "\n",
    "        most_common_vals = most_common_vals[-n:]\n",
    "\n",
    "        precent_frequency.append(sum(most_common_vals)/len(transcript))\n",
    "        \n",
    "    #Convert list to series and return\n",
    "    return(pd.Series(precent_frequency))"
   ]
  }
 ],
 "metadata": {
  "kernelspec": {
   "display_name": "Python 3",
   "language": "python",
   "name": "python3"
  },
  "language_info": {
   "codemirror_mode": {
    "name": "ipython",
    "version": 3
   },
   "file_extension": ".py",
   "mimetype": "text/x-python",
   "name": "python",
   "nbconvert_exporter": "python",
   "pygments_lexer": "ipython3",
   "version": "3.8.3"
  }
 },
 "nbformat": 4,
 "nbformat_minor": 4
}
