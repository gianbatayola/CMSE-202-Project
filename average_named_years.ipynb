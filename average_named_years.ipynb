{
 "cells": [
  {
   "cell_type": "markdown",
   "metadata": {},
   "source": [
    "### Find the average float value of years from 1800 to 2019 mentioned in speeches"
   ]
  },
  {
   "cell_type": "code",
   "execution_count": 3,
   "metadata": {},
   "outputs": [],
   "source": [
    "### Imports\n",
    "\n",
    "import pandas as pd\n",
    "import re\n",
    "import numpy as np"
   ]
  },
  {
   "cell_type": "markdown",
   "metadata": {},
   "source": [
    "#### Pull in some data just to test it out\n",
    "\n",
    "orig_data = pd.read_csv(\"presidential_speeches.csv\")\n",
    "orig_data.head()\n",
    "\n",
    "data = orig_data.drop(columns = ['Date', 'Party', 'Speech Title', 'Summary', 'URL'])\n",
    "\n",
    "data = data.dropna()"
   ]
  },
  {
   "cell_type": "markdown",
   "metadata": {},
   "source": [
    "###### From looking at the dataset, it appears that numbers are written in numerical form (which is very convenient). Here's the regex for that."
   ]
  },
  {
   "cell_type": "code",
   "execution_count": 7,
   "metadata": {},
   "outputs": [],
   "source": [
    "# This will match strings of the form \" #### \". This should prevent it from picking up on longer numbers.\n",
    "rgx = ' [0-9]{4} '"
   ]
  },
  {
   "cell_type": "markdown",
   "metadata": {},
   "source": [
    "###### Now a function can be written to loop over all speeches."
   ]
  },
  {
   "cell_type": "code",
   "execution_count": 33,
   "metadata": {},
   "outputs": [],
   "source": [
    "def named_years(speeches):\n",
    "    estimates = np.zeros(len(speeches)) # for holding average year\n",
    "    \n",
    "    # for every speech\n",
    "    for idx in range(len(speeches)):\n",
    "        start_pos = 0\n",
    "        num_years = 0\n",
    "        \n",
    "        # loop through transcript until every year mention has been found\n",
    "        while re.search(rgx, speeches.iloc[idx,:]['Transcript'][start_pos:], re.IGNORECASE) is not None:\n",
    "            \n",
    "            found = re.search(rgx, speeches.iloc[idx,:]['Transcript'][start_pos:], re.IGNORECASE)\n",
    "            \n",
    "            num = int(speeches.iloc[idx,:]['Transcript'][found.start()+start_pos+1:found.end()+start_pos-1])\n",
    "            \n",
    "            # the start position for looking at the remaining transcript\n",
    "            start_pos += found.end()\n",
    "            \n",
    "            if num > 1600 and num < 2020:\n",
    "                # add the date of the beginning of the war\n",
    "                estimates[idx] += num\n",
    "\n",
    "                # tick number of years found in this speech\n",
    "                num_years += 1\n",
    "        \n",
    "        # if any years were found, divide by total number of name drops\n",
    "        if estimates[idx]: estimates[idx] = estimates[idx]/num_years\n",
    "            \n",
    "    # scale\n",
    "    estimates = estimates/2020\n",
    "    \n",
    "    # return as series WITH NANS\n",
    "    return pd.Series(estimates, name = 'average_named_years').replace(to_replace = 0.0, value = np.nan) \n",
    "        "
   ]
  },
  {
   "cell_type": "markdown",
   "metadata": {},
   "source": [
    "###### Test it out. It looks like it might be a pretty good predictor."
   ]
  },
  {
   "cell_type": "markdown",
   "metadata": {},
   "source": [
    "estimates = named_years(data)"
   ]
  },
  {
   "cell_type": "markdown",
   "metadata": {},
   "source": [
    "estimates.max()"
   ]
  },
  {
   "cell_type": "markdown",
   "metadata": {},
   "source": [
    "import matplotlib.pyplot as plt\n",
    "%matplotlib inline\n",
    "plt.scatter(estimates, range(len(estimates)))"
   ]
  }
 ],
 "metadata": {
  "kernelspec": {
   "display_name": "Python 3",
   "language": "python",
   "name": "python3"
  },
  "language_info": {
   "codemirror_mode": {
    "name": "ipython",
    "version": 3
   },
   "file_extension": ".py",
   "mimetype": "text/x-python",
   "name": "python",
   "nbconvert_exporter": "python",
   "pygments_lexer": "ipython3",
   "version": "3.8.3"
  }
 },
 "nbformat": 4,
 "nbformat_minor": 2
}
