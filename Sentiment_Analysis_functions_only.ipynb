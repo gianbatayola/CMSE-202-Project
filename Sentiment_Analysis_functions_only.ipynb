{
 "cells": [
  {
   "cell_type": "code",
   "execution_count": 1,
   "metadata": {},
   "outputs": [],
   "source": [
    "from nltk.stem.wordnet import WordNetLemmatizer\n",
    "from nltk.corpus import twitter_samples, stopwords, inaugural\n",
    "from nltk.tag import pos_tag\n",
    "from nltk.tokenize import word_tokenize, sent_tokenize\n",
    "from nltk import FreqDist, classify, NaiveBayesClassifier\n",
    "\n",
    "import re, string"
   ]
  },
  {
   "cell_type": "markdown",
   "metadata": {},
   "source": [
    "The `remove_noise`, `get_all_words`, `get_tweets_for_model`, and `build_sentiment_model` functions are all reusued or modified versions of the functions found in the code from this website:\n",
    "https://www.digitalocean.com/community/tutorials/how-to-perform-sentiment-analysis-in-python-3-using-the-natural-language-toolkit-nltk"
   ]
  },
  {
   "cell_type": "code",
   "execution_count": 2,
   "metadata": {},
   "outputs": [],
   "source": [
    "#The data we are going to be looking at is going to be rife with all the quirks of modern internet speak, so this function\n",
    "#is to normalize it into something more akin to formal writing.\n",
    "def remove_noise(tweet_tokens, stop_words = ()):\n",
    "\n",
    "    cleaned_tokens = []\n",
    "    #Loop to remove hyperlinks, mentions, and other special characters. \n",
    "    for token, tag in pos_tag(tweet_tokens):\n",
    "        token = re.sub('http[s]?://(?:[a-zA-Z]|[0-9]|[$-_@.&+#]|[!*\\(\\),]|'\\\n",
    "                       '(?:%[0-9a-fA-F][0-9a-fA-F]))+','', token)\n",
    "        token = re.sub(\"(@[A-Za-z0-9_]+)\",\"\", token)\n",
    "        \n",
    "        #Assign part of speech as part of a pair.\n",
    "        if tag.startswith(\"NN\"):\n",
    "            pos = 'n'\n",
    "        elif tag.startswith('VB'):\n",
    "            pos = 'v'\n",
    "        else:\n",
    "            pos = 'a'\n",
    "        \n",
    "        #Lemmatization converts words to their canonical form.\n",
    "        #This is so words like \"run\", \"ran\", and \"running\" are all treated as the same word.\n",
    "        lemmatizer = WordNetLemmatizer()\n",
    "        token = lemmatizer.lemmatize(token, pos)\n",
    "        \n",
    "        #Append and return our cleaned tokens (words)\n",
    "        if len(token) > 0 and token not in string.punctuation and token.lower() not in stop_words:\n",
    "            cleaned_tokens.append(token.lower())\n",
    "    return cleaned_tokens"
   ]
  },
  {
   "cell_type": "code",
   "execution_count": 3,
   "metadata": {},
   "outputs": [],
   "source": [
    "#A generator function that takes a list of tweets as an argument to provide a list of words in all of \n",
    "#the tweet tokens joined.\n",
    "def get_all_words(cleaned_tokens_list):\n",
    "    for tokens in cleaned_tokens_list:\n",
    "        for token in tokens:\n",
    "            yield token"
   ]
  },
  {
   "cell_type": "code",
   "execution_count": 4,
   "metadata": {},
   "outputs": [],
   "source": [
    "#Convert the tweets from a list of cleaned tokens to dictionaries with keys as the tokens and True as values. \n",
    "def get_tweets_for_model(cleaned_tokens_list):\n",
    "    #The corresponding dictionaries are stored in positive_tokens_for_model and negative_tokens_for_model.\n",
    "    for tweet_tokens in cleaned_tokens_list:\n",
    "        yield dict([token, True] for token in tweet_tokens)"
   ]
  },
  {
   "cell_type": "code",
   "execution_count": 5,
   "metadata": {},
   "outputs": [],
   "source": [
    "#The function creates a model that classifies a sentence whether it is positive or negative.\n",
    "#Trained on Twitter data as it is the only labeled data.\n",
    "def build_sentiment_model():\n",
    "    \n",
    "    #Load the required data.\n",
    "    positive_tweets = twitter_samples.strings('positive_tweets.json')\n",
    "    negative_tweets = twitter_samples.strings('negative_tweets.json')\n",
    "    text = twitter_samples.strings('tweets.20150430-223406.json')\n",
    "    tweet_tokens = twitter_samples.tokenized('positive_tweets.json')[0]\n",
    "    \n",
    "    #Load in stopwords so we can filter them out.\n",
    "    stop_words = stopwords.words('english')\n",
    "    \n",
    "    #Tokenize all the tweets as items so we can clean them.\n",
    "    positive_tweet_tokens = twitter_samples.tokenized('positive_tweets.json')\n",
    "    negative_tweet_tokens = twitter_samples.tokenized('negative_tweets.json')\n",
    "    \n",
    "    #Initialize the lists to add cleaned tweets to later.\n",
    "    positive_cleaned_tokens_list = []\n",
    "    negative_cleaned_tokens_list = []\n",
    "    \n",
    "    #Clean the tokenized tweets by calling the remove_noise function.\n",
    "    for tokens in positive_tweet_tokens:\n",
    "        positive_cleaned_tokens_list.append(remove_noise(tokens, stop_words))\n",
    "\n",
    "    for tokens in negative_tweet_tokens:\n",
    "        negative_cleaned_tokens_list.append(remove_noise(tokens, stop_words))\n",
    "        \n",
    "    #These two functions are used in tandem to find the frequencies of the most used positive words.\n",
    "    all_pos_words = get_all_words(positive_cleaned_tokens_list)\n",
    "    freq_dist_pos = FreqDist(all_pos_words)\n",
    "\n",
    "    #Store the cleaned tokens into datasets.\n",
    "    positive_tokens_for_model = get_tweets_for_model(positive_cleaned_tokens_list)\n",
    "    negative_tokens_for_model = get_tweets_for_model(negative_cleaned_tokens_list)\n",
    "    positive_dataset = [(tweet_dict, \"Positive\") for tweet_dict in positive_tokens_for_model]\n",
    "    negative_dataset = [(tweet_dict, \"Negative\") for tweet_dict in negative_tokens_for_model]\n",
    "    dataset = positive_dataset + negative_dataset\n",
    "    \n",
    "    #Train the model and return the classifier.\n",
    "    train_data = dataset[:7000]\n",
    "    test_data = dataset[7000:]\n",
    "    classifier = NaiveBayesClassifier.train(train_data)\n",
    "    \n",
    "    return classifier"
   ]
  },
  {
   "cell_type": "code",
   "execution_count": 6,
   "metadata": {},
   "outputs": [],
   "source": [
    "#Using the classifier, parse sentences in transcript and determine positive or negative\n",
    "#Return ratio of whole text\n",
    "def positivity_score(transcript, classifier):\n",
    "    positive_sentences = 0\n",
    "    negative_sentences = 0\n",
    "    #Loop through each sentence, split up as tokens.\n",
    "    for sent in sent_tokenize(transcript):\n",
    "        #Collect the tokens for that sentence and remove noise.\n",
    "        custom_tokens = remove_noise(word_tokenize(sent))\n",
    "        #Run the sentence through the classifier.\n",
    "        #Depending on the sentiment, we update the corresponding counting variable.\n",
    "        if(classifier.classify(dict([token, True] for token in custom_tokens)) == 'Positive'):\n",
    "            positive_sentences += 1\n",
    "        else:\n",
    "            negative_sentences += 1\n",
    "    #Return a ratio of positive sentences over the total.\n",
    "    return positive_sentences/(positive_sentences+negative_sentences)  "
   ]
  }
 ],
 "metadata": {
  "kernelspec": {
   "display_name": "Python 3",
   "language": "python",
   "name": "python3"
  },
  "language_info": {
   "codemirror_mode": {
    "name": "ipython",
    "version": 3
   },
   "file_extension": ".py",
   "mimetype": "text/x-python",
   "name": "python",
   "nbconvert_exporter": "python",
   "pygments_lexer": "ipython3",
   "version": "3.8.5"
  }
 },
 "nbformat": 4,
 "nbformat_minor": 4
}
